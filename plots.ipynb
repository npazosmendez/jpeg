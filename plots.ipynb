{
 "cells": [
  {
   "cell_type": "code",
   "execution_count": 106,
   "metadata": {},
   "outputs": [],
   "source": [
    "# Python 3\n",
    "import jpeg as JPEG\n",
    "import libs.ruidos as ruido\n",
    "from skimage import io, transform\n",
    "from skimage.transform import resize\n",
    "import matplotlib.pyplot as plt\n",
    "import seaborn as sns\n",
    "import numpy as np\n",
    "from scipy import misc, ndimage\n"
   ]
  },
  {
   "cell_type": "code",
   "execution_count": 115,
   "metadata": {},
   "outputs": [],
   "source": [
    "img = io.imread('bmp/lena_200x200.bmp')\n",
    "# img= np.array(resize(img, (256, 256), mode='reflect'), dtype=np.uint8)\n",
    "io.imsave('latex/fig/lena.png',img)\n",
    "step = 8\n",
    "loc_x = 13\n",
    "loc_y = 12\n",
    "io.imsave('latex/fig/lena_block.png',img[step*loc_x:step*(loc_x+1),step*loc_y:step*(loc_y+1)])\n",
    "for i in range(step,200,step):\n",
    "    img[:,i] = (255,0,0)\n",
    "    img[i,:] = (255,0,0)\n",
    "io.imsave('latex/fig/lena_blocks.png',img)\n",
    "img[step*loc_x+1:step*(loc_x+1),step*loc_y+1:step*(loc_y+1),1] = 0\n",
    "img[step*loc_x+1:step*(loc_x+1),step*loc_y+1:step*(loc_y+1),2] = 0\n",
    "io.imsave('latex/fig/lena_blocks_rojo.png',img)\n",
    "\n"
   ]
  },
  {
   "cell_type": "code",
   "execution_count": 157,
   "metadata": {},
   "outputs": [
    {
     "data": {
      "image/png": "[encoded data removed]",
      "text/plain": [
       "<matplotlib.figure.Figure at 0x7fe736d0e128>"
      ]
     },
     "metadata": {},
     "output_type": "display_data"
    }
   ],
   "source": [
    "img = np.zeros((100,100),dtype=np.uint8)\n",
    "for i in range(0,41,2):\n",
    "    img[:,i] = 255\n",
    "for i in range(60,100,2):\n",
    "    img[:,i] = 255\n",
    "for i in range(41,60,2):\n",
    "    img[0:41,i] = 255\n",
    "    img[60:100,i] = 255\n",
    "    \n",
    "for i in range(41,60,2):\n",
    "    img[i,41:60] = 255\n",
    "\n",
    "plt.imshow(img)\n",
    "plt.show()\n",
    "\n",
    "io.imsave('latex/fig/no_homogenea.png',img)\n",
    "io.imsave('bmp/no_homogenea.bmp',img)"
   ]
  }
 ],
 "metadata": {
  "kernelspec": {
   "display_name": "Python 3",
   "language": "python",
   "name": "python3"
  },
  "language_info": {
   "codemirror_mode": {
    "name": "ipython",
    "version": 3
   },
   "file_extension": ".py",
   "mimetype": "text/x-python",
   "name": "python",
   "nbconvert_exporter": "python",
   "pygments_lexer": "ipython3",
   "version": "3.5.2"
  }
 },
 "nbformat": 4,
 "nbformat_minor": 2
}
