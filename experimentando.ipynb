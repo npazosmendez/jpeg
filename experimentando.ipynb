{
 "cells": [
  {
   "cell_type": "code",
   "execution_count": 15,
   "metadata": {},
   "outputs": [],
   "source": [
    "# Python 3\n",
    "import jpeg as JPEG\n",
    "import libs.ruidos as ruido\n",
    "from skimage import io\n",
    "import matplotlib.pyplot as plt\n",
    "import seaborn as sns\n",
    "# from util import *"
   ]
  },
  {
   "cell_type": "code",
   "execution_count": 18,
   "metadata": {},
   "outputs": [
    {
     "name": "stdout",
     "output_type": "stream",
     "text": [
      "786.432\n",
      "44.325625\n"
     ]
    },
    {
     "name": "stderr",
     "output_type": "stream",
     "text": [
      "/home/pablo/facultad/ipdi/jpeg/jpeg.py:249: RuntimeWarning: overflow encountered in byte_scalars\n",
      "  # Si hubo padding, se lo quito\n"
     ]
    }
   ],
   "source": [
    "img = io.imread('bmp/lena.bmp')\n",
    "\n",
    "print(JPEG.img_size(img))\n",
    "jpeg = JPEG.jpeg_encode(img,100)\n",
    "print(jpeg.size())\n",
    "# Decodifico\n",
    "img2 = JPEG.jpeg_decode(jpeg)"
   ]
  }
 ],
 "metadata": {
  "kernelspec": {
   "display_name": "Python 3",
   "language": "python",
   "name": "python3"
  },
  "language_info": {
   "codemirror_mode": {
    "name": "ipython",
    "version": 3
   },
   "file_extension": ".py",
   "mimetype": "text/x-python",
   "name": "python",
   "nbconvert_exporter": "python",
   "pygments_lexer": "ipython3",
   "version": "3.5.2"
  },
  "toc": {
   "nav_menu": {},
   "number_sections": false,
   "sideBar": false,
   "skip_h1_title": false,
   "toc_cell": false,
   "toc_position": {},
   "toc_section_display": "block",
   "toc_window_display": true
  }
 },
 "nbformat": 4,
 "nbformat_minor": 2
}
