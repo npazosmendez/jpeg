{
 "cells": [
  {
   "cell_type": "code",
   "execution_count": null,
   "metadata": {},
   "outputs": [],
   "source": [
    "# Python 3\n",
    "import jpeg as JPEG\n",
    "import libs.ruidos as ruido\n",
    "from skimage import io\n",
    "import matplotlib.pyplot as plt\n",
    "import seaborn as sns\n",
    "# from util import *"
   ]
  },
  {
   "cell_type": "code",
   "execution_count": null,
   "metadata": {},
   "outputs": [],
   "source": [
    "# img_show helpers\n",
    "def img_matrix_show(mat_img, fg = (10,10)):\n",
    "    plt.clf()\n",
    "    plt.figure(figsize=fg)\n",
    "    plt.grid(False)\n",
    "    rows = len(mat_img)\n",
    "    is_matrix = isinstance(mat_img[0], list)\n",
    "    if is_matrix:\n",
    "        cols = len(mat_img[0])\n",
    "    else:\n",
    "        cols = 1\n",
    "    for i in range(rows):\n",
    "        for j in range(cols):\n",
    "            if is_matrix:\n",
    "                plt.subplot(rows, cols, cols*i+(j+1))\n",
    "                plt.imshow(mat_img[i][j])\n",
    "            else:\n",
    "                plt.subplot(cols, rows, cols*i+(j+1))\n",
    "                plt.imshow(mat_img[j])\n",
    "            plt.axis('off')\n",
    "    plt.show()"
   ]
  },
  {
   "cell_type": "code",
   "execution_count": null,
   "metadata": {},
   "outputs": [],
   "source": [
    "def compression_rate(img, Q_factor):\n",
    "    assert(0 < Q_factor and Q_factor <= 100)\n",
    "    compressed_img = JPEG.jpeg_encode(img, Q_factor)\n",
    "    return JPEG.img_size(img)/compressed_img.size()\n",
    "\n",
    "def compress_and_get(img, Q_factor):\n",
    "    compressed_img = JPEG.jpeg_encode(img, Q_factor)\n",
    "    uncompressed_img = JPEG.jpeg_decode(compressed_img)\n",
    "    return uncompressed_img"
   ]
  },
  {
   "cell_type": "code",
   "execution_count": null,
   "metadata": {},
   "outputs": [],
   "source": [
    "img = io.imread('bmp/lena.bmp')\n",
    "\n",
    "print(JPEG.img_size(img))\n",
    "jpeg = JPEG.jpeg_encode(img,100)\n",
    "print(jpeg.size())\n",
    "# Decodifico\n",
    "img2 = JPEG.jpeg_decode(jpeg)"
   ]
  },
  {
   "cell_type": "code",
   "execution_count": null,
   "metadata": {},
   "outputs": [],
   "source": [
    "compress_and_get(img, 50)"
   ]
  },
  {
   "cell_type": "code",
   "execution_count": null,
   "metadata": {},
   "outputs": [],
   "source": [
    "img_matrix_show([compress_and_get(img, 100)], fg=(10,20))"
   ]
  }
 ],
 "metadata": {
  "kernelspec": {
   "display_name": "Python 3",
   "language": "python",
   "name": "python3"
  },
  "language_info": {
   "codemirror_mode": {
    "name": "ipython",
    "version": 3
   },
   "file_extension": ".py",
   "mimetype": "text/x-python",
   "name": "python",
   "nbconvert_exporter": "python",
   "pygments_lexer": "ipython3",
   "version": "3.5.2"
  },
  "toc": {
   "nav_menu": {},
   "number_sections": false,
   "sideBar": false,
   "skip_h1_title": false,
   "toc_cell": false,
   "toc_position": {},
   "toc_section_display": "block",
   "toc_window_display": true
  }
 },
 "nbformat": 4,
 "nbformat_minor": 2
}
