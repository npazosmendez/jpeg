{
 "cells": [
  {
   "cell_type": "code",
   "execution_count": null,
   "metadata": {},
   "outputs": [],
   "source": [
    "# Python 3\n",
    "import jpeg as JPEG\n",
    "import libs.ruidos as ruido\n",
    "import libs.metricas as metricas\n",
    "from skimage import io\n",
    "import matplotlib.pyplot as plt\n",
    "# import seaborn as sns\n",
    "import numpy as np\n",
    "from scipy import fftpack\n",
    "from scipy.ndimage import filters\n"
   ]
  },
  {
   "cell_type": "code",
   "execution_count": null,
   "metadata": {},
   "outputs": [],
   "source": [
    "def get_2D_dct(img):\n",
    "    return fftpack.dct(fftpack.dct(img.T, norm='ortho').T, norm='ortho')\n",
    "\n",
    "def get_2d_idct(coefficients):\n",
    "    return fftpack.idct(fftpack.idct(coefficients.T, norm='ortho').T, norm='ortho')"
   ]
  },
  {
   "cell_type": "markdown",
   "metadata": {},
   "source": [
    "# No usar bloques\n",
    "La idea es ver que no está bueno aplicar la DCT a la imagen completa"
   ]
  },
  {
   "cell_type": "code",
   "execution_count": null,
   "metadata": {},
   "outputs": [],
   "source": [
    "# img = np.transpose(io.imread('bmp/homogenea.bmp'))\n",
    "img = io.imread('bmp/no_homogenea.bmp')\n",
    "img_dct = get_2D_dct(img)\n",
    "io.imsave('latex/fig/no_homogenea.png',img)\n",
    "\n",
    "# máscara\n",
    "menores_coef_mask = np.flip(np.tril(np.ones(img.shape),0),0)\n",
    "\n",
    "img_dct_trimmed = np.multiply(img_dct,menores_coef_mask)\n",
    "# recorto coeficientes\n",
    "img2 = get_2d_idct(img_dct_trimmed).clip(0,255).astype('uint8')\n",
    "\n",
    "# muestro\n",
    "plt.figure(figsize=(15,15))\n",
    "\n",
    "plt.subplot(1,4,1)\n",
    "plt.imshow(img_dct,cmap='gray')\n",
    "plt.title('DCT')\n",
    "\n",
    "plt.subplot(1,4,2)\n",
    "plt.imshow(menores_coef_mask,cmap='gray')\n",
    "plt.title('mask')\n",
    "\n",
    "plt.subplot(1,4,3)\n",
    "plt.imshow(img_dct_trimmed,cmap='gray')\n",
    "plt.title('DCT - recortada')\n",
    "\n",
    "plt.subplot(1,4,4)\n",
    "plt.imshow(img2,cmap='gray')\n",
    "plt.title('comprimida')\n",
    "\n",
    "plt.show()\n",
    "\n",
    "plt.figure(figsize=(15,15))\n",
    "plt.imshow(img2,cmap='gray')\n",
    "plt.show()\n",
    "\n",
    "plt.figure(figsize=(15,15))\n",
    "plt.imshow(img,cmap='gray')\n",
    "plt.show()\n",
    "\n",
    "io.imsave('latex/fig/no_homogenea_comprimida.png',img2)"
   ]
  },
  {
   "cell_type": "markdown",
   "metadata": {},
   "source": [
    "# Las frecuencias bajas tienen más información\n",
    "La idea es ver que las frecuencias bajas tienen más información que las altas, para el ojo humano."
   ]
  },
  {
   "cell_type": "code",
   "execution_count": null,
   "metadata": {},
   "outputs": [],
   "source": [
    "\n",
    "img = io.imread('bmp/lena.bmp')[:,:,0]\n",
    "dct_size = img.shape[0]\n",
    "dct = get_2D_dct(img)\n",
    "reconstructed_images = []\n",
    "\n",
    "for ii in range(dct_size):\n",
    "    dct_copy = dct.copy()\n",
    "    \n",
    "    dct_copy[ii:,:] = 0\n",
    "    dct_copy[:,ii:] = 0\n",
    "\n",
    "    # Reconstructed image\n",
    "    reconstructed_image = get_2d_idct(dct_copy)\n",
    "\n",
    "    # Create a list of images\n",
    "    reconstructed_images.append(reconstructed_image)"
   ]
  },
  {
   "cell_type": "code",
   "execution_count": null,
   "metadata": {},
   "outputs": [],
   "source": [
    "fig = plt.figure(figsize=(10,7))\n",
    "for ii in range(40):\n",
    "    plt.subplot(5,8, ii+1)\n",
    "    plt.imshow(reconstructed_images[ii], cmap='gray')\n",
    "    plt.axis('off')\n",
    "#     plt.tight_layout()\n",
    "plt.savefig('latex/fig/lenas.png',bbox_inches='tight')\n",
    "plt.show()\n",
    "\n",
    "io.imsave('latex/fig/lenas_100frecuencias.png',np.array(reconstructed_images[100].clip(0,255),dtype=np.uint8))"
   ]
  },
  {
   "cell_type": "markdown",
   "metadata": {},
   "source": [
    "Ahora veamos cómo se reconstruye Lena con las primeras 100 frecuencias nada más. Se ve, pero tiene artifacts groseros."
   ]
  },
  {
   "cell_type": "code",
   "execution_count": null,
   "metadata": {},
   "outputs": [],
   "source": [
    "fig = plt.figure(figsize=(10,10))\n",
    "plt.imshow(reconstructed_images[100],cmap='gray')\n",
    "plt.show()"
   ]
  },
  {
   "cell_type": "markdown",
   "metadata": {},
   "source": [
    "# Señal y su DCT\n",
    "La idea es poner un ejemplo de DCT, y notar que cuando la imagen es suave la DCT concentra energía."
   ]
  },
  {
   "cell_type": "code",
   "execution_count": null,
   "metadata": {},
   "outputs": [],
   "source": [
    "# 8x8 random y su DCT\n",
    "img = np.array(np.random.rand(8,8)*255,dtype=np.int)\n",
    "img = filters.gaussian_filter(img, 1.2) -128\n",
    "\n",
    "dct = get_2D_dct(img)\n",
    "\n",
    "\n",
    "fig, ax = plt.subplots(figsize=(10,10))\n",
    "plt.imshow(img,cmap='gray')\n",
    "for (j,i),label in np.ndenumerate(img):\n",
    "    ax.text(i,j,label,ha='center',va='center',fontsize=25,color='r')\n",
    "ax.tick_params(labelsize=20)\n",
    "plt.axis('off')\n",
    "plt.tight_layout()\n",
    "plt.savefig('latex/fig/8x8random.png')\n",
    "plt.show()\n",
    "\n",
    "fig, ax = plt.subplots(figsize=(10,10))\n",
    "plt.imshow(dct,cmap='gray')\n",
    "for (j,i),label in np.ndenumerate(dct):\n",
    "    ax.text(i,j,\"{0:.1f}\".format(label),ha='center',va='center',fontsize=25,color='r')\n",
    "ax.tick_params(labelsize=20)\n",
    "plt.axis('off')\n",
    "plt.tight_layout()\n",
    "plt.savefig('latex/fig/8x8random_dct.png')\n",
    "plt.show()\n"
   ]
  },
  {
   "cell_type": "code",
   "execution_count": 14,
   "metadata": {},
   "outputs": [
    {
     "name": "stdout",
     "output_type": "stream",
     "text": [
      "4.93532866426\n",
      "1.07001855283\n"
     ]
    },
    {
     "data": {
      "image/png": "[encoded data removed]",
      "text/plain": [
       "<matplotlib.figure.Figure at 0x7fe86b21ee48>"
      ]
     },
     "metadata": {},
     "output_type": "display_data"
    },
    {
     "data": {
      "image/png": "[encoded data removed]",
      "text/plain": [
       "<matplotlib.figure.Figure at 0x7fe86adc9208>"
      ]
     },
     "metadata": {},
     "output_type": "display_data"
    }
   ],
   "source": [
    "# 8x8 random y su DCT\n",
    "img = np.array(np.random.rand(8,8)*255,dtype=np.int)\n",
    "img = filters.gaussian_filter(img, 1.2) -128\n",
    "\n",
    "dct = get_2D_dct(img)\n",
    "\n",
    "\n",
    "# Veamos la entropía al cuantizar\n",
    "\n",
    "QTable = np.array([\\\n",
    "        [16,11,10,16,24,40,51,61],\\\n",
    "        [12,12,14,19,26,58,60,55],\\\n",
    "        [14,13,16,24,40,57,69,56],\\\n",
    "        [14,17,22,29,51,87,80,62],\\\n",
    "        [18,22,37,56,68,109,103,77],\\\n",
    "        [24,35,55,64,81,104,113,92],\\\n",
    "        [49,64,78,87,103,121,120,101],\\\n",
    "        [72,92,95,98,112,100,103,99],\\\n",
    "        ])\n",
    "\n",
    "dct = np.array(np.divide(dct,QTable), dtype=np.int8)\n",
    "\n",
    "print(metricas.entropy(img))\n",
    "print(metricas.entropy(dct))\n",
    "\n",
    "fig, ax = plt.subplots(figsize=(10,10))\n",
    "plt.imshow(img,cmap='gray')\n",
    "for (j,i),label in np.ndenumerate(img):\n",
    "    ax.text(i,j,label,ha='center',va='center',fontsize=25,color='r')\n",
    "ax.tick_params(labelsize=20)\n",
    "plt.axis('off')\n",
    "plt.tight_layout()\n",
    "plt.savefig('latex/fig/8x8random_entropy.png')\n",
    "plt.show()\n",
    "\n",
    "fig, ax = plt.subplots(figsize=(10,10))\n",
    "plt.imshow(dct,cmap='gray')\n",
    "for (j,i),label in np.ndenumerate(dct):\n",
    "    ax.text(i,j,label,ha='center',va='center',fontsize=25,color='r')\n",
    "ax.tick_params(labelsize=20)\n",
    "plt.axis('off')\n",
    "plt.tight_layout()\n",
    "plt.savefig('latex/fig/8x8random_dct_entropy.png')\n",
    "plt.show()\n",
    "\n",
    "\n"
   ]
  },
  {
   "cell_type": "markdown",
   "metadata": {},
   "source": [
    "Ahora mostrar que cuando no es suave, la DCT no concentra energía."
   ]
  },
  {
   "cell_type": "code",
   "execution_count": null,
   "metadata": {},
   "outputs": [],
   "source": [
    "# distintos 8x8 y sus dct\n",
    "sigmas = [0.1,1,2,5]\n",
    "\n",
    "n = 0\n",
    "for sigma in sigmas:\n",
    "\n",
    "    img = np.array(np.random.rand(8,8)*255,dtype=np.int)\n",
    "    img = filters.gaussian_filter(img, sigma) -128\n",
    "    dct = get_2D_dct(img)\n",
    "    fig, ax = plt.subplots(figsize=(10,10))\n",
    "    plt.imshow(img,cmap='gray')\n",
    "    for (j,i),label in np.ndenumerate(img):\n",
    "        ax.text(i,j,label,ha='center',va='center',fontsize=25,color='r')\n",
    "    ax.tick_params(labelsize=20)\n",
    "    plt.axis('off')\n",
    "    plt.tight_layout()\n",
    "    plt.savefig('latex/fig/8x8random'+str(n)+'.png')\n",
    "    plt.show()\n",
    "\n",
    "    fig, ax = plt.subplots(figsize=(10,10))\n",
    "    plt.imshow(dct,cmap='gray')\n",
    "    for (j,i),label in np.ndenumerate(dct):\n",
    "        ax.text(i,j,\"{0:.1f}\".format(label),ha='center',va='center',fontsize=25,color='r')\n",
    "    ax.tick_params(labelsize=20)\n",
    "    plt.axis('off')\n",
    "    plt.tight_layout()\n",
    "    plt.savefig('latex/fig/8x8random_dct'+str(n)+'.png')\n",
    "    plt.show()\n",
    "    n += 1\n"
   ]
  },
  {
   "cell_type": "markdown",
   "metadata": {},
   "source": [
    "# Compresión y calidad\n",
    "La idea es ver cómo cambia la calidad de la imagen con más compresión"
   ]
  },
  {
   "cell_type": "code",
   "execution_count": null,
   "metadata": {},
   "outputs": [],
   "source": [
    "def JPEG_compress(img, Q, NM = (8,8), QTable = np.array([\\\n",
    "        [16,11,10,16,24,40,51,61],\\\n",
    "        [12,12,14,19,26,58,60,55],\\\n",
    "        [14,13,16,24,40,57,69,56],\\\n",
    "        [14,17,22,29,51,87,80,62],\\\n",
    "        [18,22,37,56,68,109,103,77],\\\n",
    "        [24,35,55,64,81,104,113,92],\\\n",
    "        [49,64,78,87,103,121,120,101],\\\n",
    "        [72,92,95,98,112,100,103,99],\\\n",
    "        ])):\n",
    "    \n",
    "    jpeg = JPEG.jpeg_encode(img,Q, NM, QTable)\n",
    "    bytes = jpeg.size()\n",
    "    img2 = JPEG.jpeg_decode(jpeg)\n",
    "    return (img2, bytes)"
   ]
  },
  {
   "cell_type": "code",
   "execution_count": null,
   "metadata": {},
   "outputs": [],
   "source": [
    "%autoreload\n",
    "def comprimir_y_medir(img,QQ):\n",
    "    sizes = []\n",
    "    imgs = []\n",
    "    for Q in QQ:\n",
    "        print('Comprimiendo con Q =',Q)\n",
    "        (img2,size) = JPEG_compress(img, Q)\n",
    "        sizes.append(size)\n",
    "        imgs.append(img2)\n",
    "    return (imgs, sizes)"
   ]
  },
  {
   "cell_type": "code",
   "execution_count": null,
   "metadata": {},
   "outputs": [],
   "source": [
    "QQ = np.arange(50,102,2)\n",
    "\n",
    "lena = io.imread('bmp/lena.bmp')\n",
    "(lenas, lenas_sizes) = comprimir_y_medir(lena, QQ)\n",
    "\n",
    "paisaje = io.imread('bmp/landscape.jpg')\n",
    "(paisajes, paisajes_sizes) = comprimir_y_medir(paisaje, QQ)\n",
    "\n",
    "txt = io.imread('bmp/text.bmp')\n",
    "(txts, txt_sizes) = comprimir_y_medir(txt, QQ)"
   ]
  },
  {
   "cell_type": "code",
   "execution_count": null,
   "metadata": {},
   "outputs": [],
   "source": [
    "lena_size = lena.shape[0] * lena.shape[1]* lena.shape[2]\n",
    "paisaje_size = paisaje.shape[0] * paisaje.shape[1]* paisaje.shape[2]\n",
    "txt_size = txt.shape[0] * txt.shape[1]* txt.shape[2]\n",
    "\n",
    "PSNR_lenas = [metricas.PSNR(lena, img2) for img2 in lenas]\n",
    "MSE_lenas = [metricas.MSE(lena, img2) for img2 in lenas]\n",
    "FC_lenas = [metricas.FC(lena_size, size) for size in lenas_sizes]\n",
    "\n",
    "PSNR_paisajes = [metricas.PSNR(paisaje, img2) for img2 in paisajes]\n",
    "MSE_paisajes = [metricas.MSE(paisaje, img2) for img2 in paisajes]\n",
    "FC_paisajes = [metricas.FC(paisaje_size, size) for size in paisajes_sizes]\n",
    "\n",
    "PSNR_txts = [metricas.PSNR(txt, img2) for img2 in txts]\n",
    "MSE_txts = [metricas.MSE(txt, img2) for img2 in txts]\n",
    "FC_txts = [metricas.FC(txt_size, size) for size in txt_sizes]\n"
   ]
  },
  {
   "cell_type": "code",
   "execution_count": null,
   "metadata": {},
   "outputs": [],
   "source": [
    "np.save('muchasdata.dat',(PSNR_lenas, MSE_lenas, FC_lenas, PSNR_paisajes, MSE_paisajes,FC_paisajes, PSNR_txts, MSE_txts, FC_txts))\n"
   ]
  },
  {
   "cell_type": "code",
   "execution_count": null,
   "metadata": {},
   "outputs": [],
   "source": [
    "(PSNR_lenas, MSE_lenas, FC_lenas, PSNR_paisajes, MSE_paisajes,FC_paisajes, PSNR_txts, MSE_txts, FC_txts) = np.load('muchasdata.dat.npy')\n",
    "# plt.figure(figsize=(30,30))\n",
    "# for i in range(len(QQ)):\n",
    "#     plt.subplot(1,len(QQ),i+1)\n",
    "#     plt.imshow(imgs[i])\n",
    "#     plt.title(sizes[i],fontsize=30)\n",
    "# plt.show()\n",
    "\n",
    "\n",
    "plt.plot(FC_lenas, MSE_lenas,label='Lena')\n",
    "plt.plot(FC_paisajes, MSE_paisajes,label='Paisaje')\n",
    "plt.plot(FC_txts, MSE_txts, label='Texto')\n",
    "plt.legend()\n",
    "plt.ylabel('ECM')\n",
    "plt.xlabel('Factor de compresión')\n",
    "\n",
    "plt.savefig('latex/fig/FCvsECM.pdf')\n",
    "plt.show()\n",
    "\n"
   ]
  },
  {
   "cell_type": "code",
   "execution_count": null,
   "metadata": {},
   "outputs": [],
   "source": [
    "lena = io.imread('bmp/lena.bmp')\n",
    "paisaje = io.imread('bmp/landscape.jpg')\n",
    "txt = io.imread('bmp/text.bmp')\n",
    "\n",
    "(img, size) = JPEG_compress(lena,80)\n",
    "io.imsave('latex/fig/lena_80.png',img)\n",
    "print(metricas.MSE(lena,img))\n",
    "\n",
    "(img, size) = JPEG_compress(paisaje,80)\n",
    "io.imsave('latex/fig/paisaje_80.png',img)\n",
    "print(metricas.MSE(paisaje,img))\n",
    "\n",
    "(img, size) = JPEG_compress(txt,80)\n",
    "io.imsave('latex/fig/txt_80.png',img)\n",
    "print(metricas.MSE(txt,img))\n"
   ]
  },
  {
   "cell_type": "code",
   "execution_count": null,
   "metadata": {},
   "outputs": [],
   "source": []
  }
 ],
 "metadata": {
  "kernelspec": {
   "display_name": "Python 3",
   "language": "python",
   "name": "python3"
  },
  "language_info": {
   "codemirror_mode": {
    "name": "ipython",
    "version": 3
   },
   "file_extension": ".py",
   "mimetype": "text/x-python",
   "name": "python",
   "nbconvert_exporter": "python",
   "pygments_lexer": "ipython3",
   "version": "3.5.2"
  }
 },
 "nbformat": 4,
 "nbformat_minor": 2
}
